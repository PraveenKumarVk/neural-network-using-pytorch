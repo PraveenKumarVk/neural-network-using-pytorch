{
 "cells": [
  {
   "cell_type": "code",
   "execution_count": 2,
   "id": "46352fe6-9f32-4ce1-9dee-33f3090f0731",
   "metadata": {},
   "outputs": [
    {
     "name": "stdout",
     "output_type": "stream",
     "text": [
      "Collecting torch\n",
      "  Downloading torch-2.2.2-cp312-none-macosx_10_9_x86_64.whl.metadata (25 kB)\n",
      "Requirement already satisfied: filelock in /opt/anaconda3/envs/av/lib/python3.12/site-packages (from torch) (3.13.1)\n",
      "Requirement already satisfied: typing-extensions>=4.8.0 in /opt/anaconda3/envs/av/lib/python3.12/site-packages (from torch) (4.11.0)\n",
      "Requirement already satisfied: sympy in /opt/anaconda3/envs/av/lib/python3.12/site-packages (from torch) (1.12)\n",
      "Requirement already satisfied: networkx in /opt/anaconda3/envs/av/lib/python3.12/site-packages (from torch) (3.2.1)\n",
      "Requirement already satisfied: jinja2 in /opt/anaconda3/envs/av/lib/python3.12/site-packages (from torch) (3.1.4)\n",
      "Requirement already satisfied: fsspec in /opt/anaconda3/envs/av/lib/python3.12/site-packages (from torch) (2024.3.1)\n",
      "Requirement already satisfied: MarkupSafe>=2.0 in /opt/anaconda3/envs/av/lib/python3.12/site-packages (from jinja2->torch) (2.1.3)\n",
      "Requirement already satisfied: mpmath>=0.19 in /opt/anaconda3/envs/av/lib/python3.12/site-packages (from sympy->torch) (1.3.0)\n",
      "Downloading torch-2.2.2-cp312-none-macosx_10_9_x86_64.whl (150.8 MB)\n",
      "\u001b[2K   \u001b[90m━━━━━━━━━━━━━━━━━━━━━━━━━━━━━━━━━━━━━━━━\u001b[0m \u001b[32m150.8/150.8 MB\u001b[0m \u001b[31m7.2 MB/s\u001b[0m eta \u001b[36m0:00:00\u001b[0m:00:01\u001b[0m00:01\u001b[0m\n",
      "\u001b[?25hInstalling collected packages: torch\n",
      "Successfully installed torch-2.2.2\n"
     ]
    }
   ],
   "source": [
    "!pip install torch"
   ]
  },
  {
   "cell_type": "code",
   "execution_count": 3,
   "id": "66203ecf-ad2f-40d5-8ffc-f2757b20f298",
   "metadata": {},
   "outputs": [],
   "source": [
    "import torch"
   ]
  },
  {
   "cell_type": "code",
   "execution_count": 4,
   "id": "d6fecc90-1cf5-4a5f-847c-25a5ed15ea98",
   "metadata": {},
   "outputs": [
    {
     "name": "stdout",
     "output_type": "stream",
     "text": [
      "2.2.2\n"
     ]
    }
   ],
   "source": [
    "print(torch.__version__)"
   ]
  },
  {
   "cell_type": "code",
   "execution_count": 5,
   "id": "ff27b61a-2361-4a69-97ec-50bfc83cd673",
   "metadata": {},
   "outputs": [],
   "source": [
    "import matplotlib.pyplot as plt\n",
    "%matplotlib inline"
   ]
  },
  {
   "cell_type": "code",
   "execution_count": 9,
   "id": "efbe78c0-6760-4c7e-83fa-6f6525fdc80f",
   "metadata": {},
   "outputs": [
    {
     "data": {
      "text/plain": [
       "tensor([[1., 0., 1., 0.],\n",
       "        [1., 0., 1., 1.],\n",
       "        [0., 1., 0., 1.]])"
      ]
     },
     "execution_count": 9,
     "metadata": {},
     "output_type": "execute_result"
    }
   ],
   "source": [
    "X = torch.tensor([[1,0,1,0],[1,0,1,1],[0,1,0,1]],dtype=torch.float)\n",
    "X"
   ]
  },
  {
   "cell_type": "code",
   "execution_count": 10,
   "id": "ddc0c911-d8cd-48f1-8f19-faf6a148dc3b",
   "metadata": {},
   "outputs": [
    {
     "data": {
      "text/plain": [
       "tensor([[1.],\n",
       "        [1.],\n",
       "        [0.]])"
      ]
     },
     "execution_count": 10,
     "metadata": {},
     "output_type": "execute_result"
    }
   ],
   "source": [
    "y = torch.tensor([[1],[1],[0]], dtype=torch.float)\n",
    "y"
   ]
  },
  {
   "cell_type": "code",
   "execution_count": 11,
   "id": "06b5070d-68a7-4896-950b-aff8965f5dd9",
   "metadata": {},
   "outputs": [],
   "source": [
    "X = X.t()"
   ]
  },
  {
   "cell_type": "code",
   "execution_count": 12,
   "id": "d9eb5b12-1d86-492b-a841-d6fd27a44ce3",
   "metadata": {},
   "outputs": [],
   "source": [
    "y = y.t()"
   ]
  },
  {
   "cell_type": "code",
   "execution_count": 14,
   "id": "3ddc4773-eb1c-4850-9aa1-c8b3700c8844",
   "metadata": {},
   "outputs": [
    {
     "name": "stdout",
     "output_type": "stream",
     "text": [
      "torch.Size([4, 3]) torch.Size([1, 3])\n"
     ]
    }
   ],
   "source": [
    "print(X.shape,y.shape)"
   ]
  },
  {
   "cell_type": "code",
   "execution_count": 15,
   "id": "67bc46c4-29ff-4b65-bce9-2dff8de3f01b",
   "metadata": {},
   "outputs": [],
   "source": [
    "input_layer_neurons = X.shape[0]\n",
    "hidden_layer_neurons = 3\n",
    "output_neurons = 1"
   ]
  },
  {
   "cell_type": "code",
   "execution_count": 17,
   "id": "67b9c3a3-97f7-49b1-bcf2-8ad9668b7165",
   "metadata": {},
   "outputs": [],
   "source": [
    "w_ih = torch.randn(input_layer_neurons,hidden_layer_neurons)\n",
    "w_ho = torch.randn(hidden_layer_neurons,output_neurons)"
   ]
  },
  {
   "cell_type": "code",
   "execution_count": 19,
   "id": "612e0823-884c-4024-b254-482b0e8a850c",
   "metadata": {},
   "outputs": [],
   "source": [
    "def sigmoid(s):\n",
    "    return 1/(1+torch.exp(-s))"
   ]
  },
  {
   "cell_type": "code",
   "execution_count": 20,
   "id": "96c1626e-0b69-47a6-b299-e3a827cc989d",
   "metadata": {},
   "outputs": [],
   "source": [
    "hidden_layer_input = torch.matmul(w_ih.t(),X)\n",
    "hidden_layer_activations = sigmoid(hidden_layer_input)"
   ]
  },
  {
   "cell_type": "code",
   "execution_count": 21,
   "id": "110a314b-4fda-42c2-93f5-f37a384c5117",
   "metadata": {},
   "outputs": [],
   "source": [
    "output_layer_input = torch.matmul(w_ho.t(),hidden_layer_activations)\n",
    "output = sigmoid(output_layer_input)"
   ]
  },
  {
   "cell_type": "code",
   "execution_count": 22,
   "id": "6ba59fc5-2ae4-47e2-aadb-2cddd317b529",
   "metadata": {},
   "outputs": [
    {
     "data": {
      "text/plain": [
       "tensor([[0.8343, 0.8728, 0.7651]])"
      ]
     },
     "execution_count": 22,
     "metadata": {},
     "output_type": "execute_result"
    }
   ],
   "source": [
    "output"
   ]
  },
  {
   "cell_type": "code",
   "execution_count": 23,
   "id": "4321353c-ad0e-4ef0-85b3-5867223869a3",
   "metadata": {},
   "outputs": [],
   "source": [
    "error = torch.pow(output-y,2)/2"
   ]
  },
  {
   "cell_type": "code",
   "execution_count": 24,
   "id": "ff1b1327-6331-4c35-a8fa-0b99862fd4ed",
   "metadata": {},
   "outputs": [],
   "source": [
    "error_wrt_output = -(y-output)\n",
    "output_wrt_z2 = torch.mul(output,(1-output))\n",
    "z2_wrt_who = hidden_layer_activations"
   ]
  },
  {
   "cell_type": "code",
   "execution_count": 25,
   "id": "7ab375e7-3f14-429f-ab3d-527612eea8d8",
   "metadata": {},
   "outputs": [],
   "source": [
    "error_wrt_who = torch.matmul(z2_wrt_who,(error_wrt_output*output_wrt_z2).t())"
   ]
  },
  {
   "cell_type": "code",
   "execution_count": 26,
   "id": "5d9c95a5-2f86-4535-897e-6760e026edc0",
   "metadata": {},
   "outputs": [],
   "source": [
    "z2_wrt_h1 = w_ho\n",
    "h1_wrt_z1 = torch.mul(hidden_layer_activations,(1-hidden_layer_activations))\n",
    "z1_wrt_wih= X"
   ]
  },
  {
   "cell_type": "code",
   "execution_count": 27,
   "id": "eee30b79-4875-47fb-872c-a2df1fa72aae",
   "metadata": {},
   "outputs": [],
   "source": [
    "error_wrt_wih = torch.matmul(z1_wrt_wih,(h1_wrt_z1*torch.matmul(z2_wrt_h1,(output_wrt_z2*error_wrt_output))).t())"
   ]
  },
  {
   "cell_type": "code",
   "execution_count": 28,
   "id": "7c4eef63-a0ca-4d3f-af03-72e0cd61cdda",
   "metadata": {},
   "outputs": [],
   "source": [
    "lr = 0.01"
   ]
  },
  {
   "cell_type": "code",
   "execution_count": 29,
   "id": "e085c3d3-72cf-4a82-b4fc-b3afc7704170",
   "metadata": {},
   "outputs": [],
   "source": [
    "w_ho = w_ho - lr * error_wrt_who"
   ]
  },
  {
   "cell_type": "code",
   "execution_count": 30,
   "id": "645789b3-e5c7-467b-9dc9-f86f2bffa9fc",
   "metadata": {},
   "outputs": [],
   "source": [
    "w_ih = w_ih - lr * error_wrt_wih"
   ]
  },
  {
   "cell_type": "code",
   "execution_count": 31,
   "id": "9842111e-d49b-4ecf-84f8-c0cb6a1663f4",
   "metadata": {},
   "outputs": [],
   "source": [
    "# defining the model architecture\n",
    "inputlayer_neurons = X.shape[0] # number of features in data set\n",
    "hiddenlayer_neurons = 3 # number of hidden layers neurons\n",
    "output_neurons = 1 # number of neurons at output layer\n",
    "\n",
    "# initializing weight\n",
    "w_ih=torch.randn(inputlayer_neurons,hiddenlayer_neurons, dtype=torch.float)\n",
    "w_ho=torch.randn(hiddenlayer_neurons,output_neurons, dtype=torch.float)\n",
    "\n",
    "# defining the parameters\n",
    "lr = 0.01\n",
    "epochs = 10000"
   ]
  },
  {
   "cell_type": "code",
   "execution_count": 32,
   "id": "b0f3d166-a002-4840-85ba-d6d69f2657fe",
   "metadata": {},
   "outputs": [],
   "source": [
    "error_epoch = []\n",
    "for i in range(epochs):\n",
    "    # Forward Propogation\n",
    "    \n",
    "    # hidden layer activations\n",
    "    hidden_layer_input= torch.matmul(w_ih.t(),X)\n",
    "    hiddenlayer_activations = sigmoid(hidden_layer_input)    \n",
    "    # calculating the output\n",
    "    output_layer_input= torch.matmul(w_ho.t(),hiddenlayer_activations)\n",
    "    output = sigmoid(output_layer_input)\n",
    "    \n",
    "    \n",
    "    # Backward Propagation\n",
    "    \n",
    "    # calculating error\n",
    "    error = (y-output)*(y-output)/2\n",
    "    error_wrt_output = -(y-output)\n",
    "    output_wrt_Z2 = torch.mul(output,(1-output))\n",
    "    Z2_wrt_who = hiddenlayer_activations\n",
    "    # rate of change of error w.r.t weight between hidden and output layer\n",
    "    error_wrt_who =  torch.matmul(Z2_wrt_who,(error_wrt_output*output_wrt_Z2).t())\n",
    "    Z2_wrt_h1 = w_ho\n",
    "    h1_wrt_Z1 = torch.mul(hiddenlayer_activations,(1-hiddenlayer_activations))\n",
    "    Z1_wrt_wih = X\n",
    "    # rate of change of error w.r.t weights between input and hidden layer\n",
    "    error_wrt_wih =  torch.matmul(Z1_wrt_wih,(h1_wrt_Z1*torch.matmul(Z2_wrt_h1,(error_wrt_output*output_wrt_Z2))).t())\n",
    "\n",
    "    # updating the weights between hidden and output layer\n",
    "    w_ho = w_ho - lr * error_wrt_who\n",
    "    # updating the weights between input and hidden layer\n",
    "    w_ih = w_ih - lr * error_wrt_wih\n",
    "    \n",
    "    # appending the error of each epoch\n",
    "    error_epoch.append(torch.mean(error))"
   ]
  },
  {
   "cell_type": "code",
   "execution_count": 33,
   "id": "4d080d56-d2a7-45e3-88a0-18dd6a2b8b77",
   "metadata": {},
   "outputs": [
    {
     "data": {
      "text/plain": [
       "[<matplotlib.lines.Line2D at 0x110d28e30>]"
      ]
     },
     "execution_count": 33,
     "metadata": {},
     "output_type": "execute_result"
    },
    {
     "data": {
      "image/png": "[encoded data removed]",
      "text/plain": [
       "<Figure size 640x480 with 1 Axes>"
      ]
     },
     "metadata": {},
     "output_type": "display_data"
    }
   ],
   "source": [
    "# visualizing the error after each epoch\n",
    "plt.plot(torch.arange(1,epochs+1).numpy(), torch.Tensor(error_epoch).numpy())"
   ]
  },
  {
   "cell_type": "code",
   "execution_count": 34,
   "id": "f4e436fe-57b9-491f-a5d7-817e33137c70",
   "metadata": {},
   "outputs": [
    {
     "data": {
      "text/plain": [
       "tensor([[0.9629, 0.9277, 0.0953]])"
      ]
     },
     "execution_count": 34,
     "metadata": {},
     "output_type": "execute_result"
    }
   ],
   "source": [
    "output"
   ]
  },
  {
   "cell_type": "code",
   "execution_count": 35,
   "id": "3d74cf0a-2517-4d77-8e28-4009abb499a2",
   "metadata": {},
   "outputs": [
    {
     "data": {
      "text/plain": [
       "tensor([[1., 1., 0.]])"
      ]
     },
     "execution_count": 35,
     "metadata": {},
     "output_type": "execute_result"
    }
   ],
   "source": [
    "y"
   ]
  },
  {
   "cell_type": "code",
   "execution_count": 36,
   "id": "8bb636c5-4743-42bc-83ce-19a25b1ddd5e",
   "metadata": {},
   "outputs": [
    {
     "data": {
      "text/plain": [
       "tensor([[0.0007, 0.0026, 0.0045]])"
      ]
     },
     "execution_count": 36,
     "metadata": {},
     "output_type": "execute_result"
    }
   ],
   "source": [
    "error"
   ]
  }
 ],
 "metadata": {
  "kernelspec": {
   "display_name": "Python 3 (ipykernel)",
   "language": "python",
   "name": "python3"
  },
  "language_info": {
   "codemirror_mode": {
    "name": "ipython",
    "version": 3
   },
   "file_extension": ".py",
   "mimetype": "text/x-python",
   "name": "python",
   "nbconvert_exporter": "python",
   "pygments_lexer": "ipython3",
   "version": "3.12.3"
  }
 },
 "nbformat": 4,
 "nbformat_minor": 5
}
